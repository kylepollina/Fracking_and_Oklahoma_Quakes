{
 "cells": [
  {
   "cell_type": "markdown",
   "metadata": {},
   "source": [
    "# Fracking and Oklahoma Quakes analysis\n",
    "\n",
    "In this analysis, I will be looking at the dataset [Oklahoma Earthquakes and Saltwater Injection Wells](https://www.kaggle.com/ksuchris2000/oklahoma-earthquakes-and-saltwater-injection-wells) to see if I can find any correlation between the earthquakes and the use of [Injection Wells](https://en.wikipedia.org/wiki/Injection_well)"
   ]
  },
  {
   "cell_type": "markdown",
   "metadata": {},
   "source": [
    "### Preface"
   ]
  },
  {
   "cell_type": "code",
   "execution_count": 1,
   "metadata": {},
   "outputs": [
    {
     "data": {
      "text/plain": [
       "DataTransformerRegistry.enable('data_server')"
      ]
     },
     "execution_count": 1,
     "metadata": {},
     "output_type": "execute_result"
    }
   ],
   "source": [
    "from datetime import datetime\n",
    "import pandas as pd\n",
    "import altair as alt\n",
    "alt.data_transformers.enable('data_server')"
   ]
  },
  {
   "cell_type": "markdown",
   "metadata": {},
   "source": [
    "http://www.ogs.ou.edu/pubsscanned/openfile/OF1_2014_Murray.pdf"
   ]
  },
  {
   "cell_type": "markdown",
   "metadata": {},
   "source": [
    "### Preprocessing"
   ]
  },
  {
   "cell_type": "markdown",
   "metadata": {},
   "source": [
    "Preprocessing the data consists of removing unneeded rows and columns relating to the location of the well/quake as well as adding a python Datetime object as an attribute for the date of the event."
   ]
  },
  {
   "cell_type": "code",
   "execution_count": 2,
   "metadata": {},
   "outputs": [],
   "source": [
    "WELLS_PATH_RAW = 'data_fracking/raw/InjectionWells.csv'\n",
    "QUAKES_PATH_RAW = 'data_fracking/raw/okQuakes.csv'\n",
    "WELLS_PATH = 'data_fracking/processed/Wells.csv'\n",
    "QUAKES_PATH = 'data_fracking/processed/Quakes.csv'"
   ]
  },
  {
   "cell_type": "code",
   "execution_count": 3,
   "metadata": {},
   "outputs": [],
   "source": [
    "from scripts import preprocess\n",
    "wells = preprocess.preprocess_wells()\n",
    "quakes = preprocess.preprocess_quakes()"
   ]
  },
  {
   "cell_type": "markdown",
   "metadata": {},
   "source": [
    "First, I want to take a look at the total number of wells over time and the amount of earthquakes over time."
   ]
  },
  {
   "cell_type": "code",
   "execution_count": 5,
   "metadata": {},
   "outputs": [
    {
     "data": {
      "text/html": [
       "\n",
       "<div id=\"altair-viz-de94f7b8a42c4d5a97708f5b54c11038\"></div>\n",
       "<script type=\"text/javascript\">\n",
       "  (function(spec, embedOpt){\n",
       "    let outputDiv = document.currentScript.previousElementSibling;\n",
       "    if (outputDiv.id !== \"altair-viz-de94f7b8a42c4d5a97708f5b54c11038\") {\n",
       "      outputDiv = document.getElementById(\"altair-viz-de94f7b8a42c4d5a97708f5b54c11038\");\n",
       "    }\n",
       "    const paths = {\n",
       "      \"vega\": \"https://cdn.jsdelivr.net/npm//vega@5?noext\",\n",
       "      \"vega-lib\": \"https://cdn.jsdelivr.net/npm//vega-lib?noext\",\n",
       "      \"vega-lite\": \"https://cdn.jsdelivr.net/npm//vega-lite@4.8.1?noext\",\n",
       "      \"vega-embed\": \"https://cdn.jsdelivr.net/npm//vega-embed@6?noext\",\n",
       "    };\n",
       "\n",
       "    function loadScript(lib) {\n",
       "      return new Promise(function(resolve, reject) {\n",
       "        var s = document.createElement('script');\n",
       "        s.src = paths[lib];\n",
       "        s.async = true;\n",
       "        s.onload = () => resolve(paths[lib]);\n",
       "        s.onerror = () => reject(`Error loading script: ${paths[lib]}`);\n",
       "        document.getElementsByTagName(\"head\")[0].appendChild(s);\n",
       "      });\n",
       "    }\n",
       "\n",
       "    function showError(err) {\n",
       "      outputDiv.innerHTML = `<div class=\"error\" style=\"color:red;\">${err}</div>`;\n",
       "      throw err;\n",
       "    }\n",
       "\n",
       "    function displayChart(vegaEmbed) {\n",
       "      vegaEmbed(outputDiv, spec, embedOpt)\n",
       "        .catch(err => showError(`Javascript Error: ${err.message}<br>This usually means there's a typo in your chart specification. See the javascript console for the full traceback.`));\n",
       "    }\n",
       "\n",
       "    if(typeof define === \"function\" && define.amd) {\n",
       "      requirejs.config({paths});\n",
       "      require([\"vega-embed\"], displayChart, err => showError(`Error loading script: ${err.message}`));\n",
       "    } else if (typeof vegaEmbed === \"function\") {\n",
       "      displayChart(vegaEmbed);\n",
       "    } else {\n",
       "      loadScript(\"vega\")\n",
       "        .then(() => loadScript(\"vega-lite\"))\n",
       "        .then(() => loadScript(\"vega-embed\"))\n",
       "        .catch(showError)\n",
       "        .then(() => displayChart(vegaEmbed));\n",
       "    }\n",
       "  })({\"config\": {\"view\": {\"continuousWidth\": 400, \"continuousHeight\": 300}}, \"vconcat\": [{\"data\": {\"url\": \"http://localhost:22592/687c87dbea464b4e18a6125427c257c8.json\"}, \"mark\": \"area\", \"encoding\": {\"x\": {\"type\": \"temporal\", \"field\": \"time\"}, \"y\": {\"type\": \"quantitative\", \"field\": \"index\"}}, \"width\": 800}, {\"data\": {\"url\": \"http://localhost:22592/09d2a3a7ecf6cd54abb42e03e3dfbbe7.json\"}, \"mark\": \"bar\", \"encoding\": {\"x\": {\"type\": \"temporal\", \"field\": \"time\"}, \"y\": {\"type\": \"quantitative\", \"aggregate\": \"count\"}}, \"height\": 200, \"width\": 800}], \"$schema\": \"https://vega.github.io/schema/vega-lite/v4.8.1.json\"}, {\"mode\": \"vega-lite\"});\n",
       "</script>"
      ],
      "text/plain": [
       "alt.VConcatChart(...)"
      ]
     },
     "execution_count": 5,
     "metadata": {},
     "output_type": "execute_result"
    }
   ],
   "source": [
    "wells_plot = alt.Chart(wells).mark_area().encode(\n",
    "    x='time:T',\n",
    "    y='index',\n",
    ").properties(width=800)\n",
    "\n",
    "quakes_plot = alt.Chart(quakes.reset_index()).mark_bar().encode(\n",
    "    x='time:T',\n",
    "    y='count()'\n",
    ").properties(width=800, height=200)\n",
    "\n",
    "wells_plot & quakes_plot"
   ]
  },
  {
   "cell_type": "markdown",
   "metadata": {},
   "source": [
    "Now let's take a look at where the wells are, and where the quakes are on a map."
   ]
  },
  {
   "cell_type": "code",
   "execution_count": null,
   "metadata": {},
   "outputs": [],
   "source": [
    "states_url = 'https://raw.githubusercontent.com/deldersveld/topojson/master/countries/united-states/us-albers.json'\n",
    "\n",
    "states = alt.topo_feature(url=states_url, feature='us')\n",
    "\n",
    "statemap = alt.Chart(states).mark_geoshape(\n",
    "    fill = 'lightgrey',\n",
    "    stroke = 'white'\n",
    ").properties(\n",
    "    width = 800,\n",
    "    height = 400\n",
    ")"
   ]
  },
  {
   "cell_type": "code",
   "execution_count": null,
   "metadata": {},
   "outputs": [],
   "source": [
    "quake_points = alt.Chart(quakes).mark_circle().encode(\n",
    "    latitude = 'latitude',\n",
    "    longitude = 'longitude'\n",
    ")\n",
    "\n",
    "well_points = alt.Chart(wells.reset_index()).mark_circle().encode(\n",
    "    latitude = 'LAT',\n",
    "    longitude = 'LONG',\n",
    "    color = alt.value('red')\n",
    ")"
   ]
  },
  {
   "cell_type": "code",
   "execution_count": null,
   "metadata": {},
   "outputs": [],
   "source": [
    "statemap + quake_points + well_points"
   ]
  },
  {
   "cell_type": "markdown",
   "metadata": {},
   "source": [
    "Interesting, looks like there are some outliers on this wells data. Just to be curious I want to see where these exist in the rest of the world."
   ]
  },
  {
   "cell_type": "code",
   "execution_count": null,
   "metadata": {},
   "outputs": [],
   "source": [
    "world_url = 'https://raw.githubusercontent.com/deldersveld/topojson/master/world-continents.json'\n",
    "\n",
    "continents = alt.topo_feature(url=world_url, feature='continent')\n",
    "\n",
    "world_map = alt.Chart(continents).mark_geoshape(\n",
    "    fill = 'lightgrey',\n",
    "    stroke = 'white',\n",
    ").properties(\n",
    "    width = 800,\n",
    "    height = 400\n",
    ")"
   ]
  },
  {
   "cell_type": "code",
   "execution_count": null,
   "metadata": {},
   "outputs": [],
   "source": [
    "world_map + well_points.encode(tooltip = ['LAT', 'LONG','index'])"
   ]
  },
  {
   "cell_type": "code",
   "execution_count": null,
   "metadata": {},
   "outputs": [],
   "source": [
    "wells"
   ]
  },
  {
   "cell_type": "code",
   "execution_count": null,
   "metadata": {},
   "outputs": [],
   "source": []
  },
  {
   "cell_type": "code",
   "execution_count": null,
   "metadata": {},
   "outputs": [],
   "source": []
  },
  {
   "cell_type": "code",
   "execution_count": null,
   "metadata": {},
   "outputs": [],
   "source": []
  },
  {
   "cell_type": "code",
   "execution_count": null,
   "metadata": {},
   "outputs": [],
   "source": [
    "alt.Chart(wells.reset_index()).mark_bar().encode(\n",
    "    x='WellType:O',\n",
    "    y='count()',\n",
    "    color='WellType:O'\n",
    ").properties(width=800, height=500)"
   ]
  },
  {
   "cell_type": "code",
   "execution_count": null,
   "metadata": {},
   "outputs": [],
   "source": [
    "well_type_plot = alt.Chart(wells).mark_line().encode(\n",
    "    x='time:T',\n",
    "    y='well_count:Q',\n",
    "    color='WellType:N'\n",
    ")\n",
    "\n",
    "(well_type_plot + quakes_plot).properties(width=1000, height=500).interactive()"
   ]
  },
  {
   "cell_type": "code",
   "execution_count": null,
   "metadata": {},
   "outputs": [],
   "source": [
    "alt.Chart(wells).mark_bar().encode(\n",
    "    x='time:T',\n",
    "    y='count()',\n",
    ").properties(width=800, height=500).interactive()"
   ]
  },
  {
   "cell_type": "code",
   "execution_count": null,
   "metadata": {},
   "outputs": [],
   "source": []
  },
  {
   "cell_type": "code",
   "execution_count": null,
   "metadata": {},
   "outputs": [],
   "source": []
  }
 ],
 "metadata": {
  "kernelspec": {
   "display_name": "earthscience",
   "language": "python",
   "name": "earthscience"
  },
  "language_info": {
   "codemirror_mode": {
    "name": "ipython",
    "version": 3
   },
   "file_extension": ".py",
   "mimetype": "text/x-python",
   "name": "python",
   "nbconvert_exporter": "python",
   "pygments_lexer": "ipython3",
   "version": "3.7.7"
  }
 },
 "nbformat": 4,
 "nbformat_minor": 4
}
